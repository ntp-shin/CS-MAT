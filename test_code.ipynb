{
 "cells": [
  {
   "cell_type": "markdown",
   "metadata": {},
   "source": [
    "### Format val-data names"
   ]
  },
  {
   "cell_type": "code",
   "execution_count": null,
   "metadata": {},
   "outputs": [],
   "source": [
    "import os, glob\n",
    "\n",
    "path = '/media/nnthao/MAT/Data/CelebA-HQ/CelebA-HQ-val_img-formatted'\n",
    "img_list = sorted(glob.glob(path + '/*.png') + glob.glob(path + '/*.jpg'))\n",
    "idx_list = []\n",
    "\n",
    "for i in img_list:\n",
    "    idx_list.append(int(i.split('/')[-1][:-4]))\n",
    "\n",
    "sort_idx_list = np.argsort(np.array(idx_list))\n",
    "\n",
    "for new_idx, i in enumerate(sort_idx_list):\n",
    "    snew_idx = str(new_idx)\n",
    "    while len(snew_idx) < 6:\n",
    "        snew_idx = '0' + snew_idx\n",
    "\n",
    "    idx = img_list[i].split('/')[-1][:-4]\n",
    "    os.replace(img_list[i], '/'.join(img_list[i].split('/')[:-1]) + '/' + snew_idx + '.jpg')"
   ]
  },
  {
   "cell_type": "markdown",
   "metadata": {},
   "source": [
    "### Create mini-val"
   ]
  },
  {
   "cell_type": "code",
   "execution_count": 1,
   "metadata": {},
   "outputs": [
    {
     "data": {
      "text/plain": [
       "1219"
      ]
     },
     "execution_count": 1,
     "metadata": {},
     "output_type": "execute_result"
    }
   ],
   "source": [
    "import numpy as np\n",
    "import random\n",
    "\n",
    "mini_lst = []\n",
    "for i in range(128):\n",
    "    mini_lst.append(random.choice(open('/media/nnthao/MAT/Data/CelebA-HQ/val_img_names.txt').read().strip().split('\\n')))\n",
    "\n",
    "open('/media/nnthao/MAT/Data/CelebA-HQ/mini_val_img_names.txt', 'w').write('\\n'.join(mini_lst))"
   ]
  },
  {
   "cell_type": "markdown",
   "metadata": {},
   "source": [
    "### Check-sum data inception"
   ]
  },
  {
   "cell_type": "code",
   "execution_count": 14,
   "metadata": {},
   "outputs": [
    {
     "name": "stdout",
     "output_type": "stream",
     "text": [
      "569.2022338815686 9203.188104182427\n",
      "569.1569062767871 9197.100171732869\n",
      "569.2022338815686 9203.188104182427\n",
      "569.1569062767871 9197.100171732869\n",
      "569.1569062767871 9197.100171732869\n",
      "569.2022338815686 9203.188104182427\n"
     ]
    }
   ],
   "source": [
    "from metrics2.metric_utils import FeatureStats\n",
    "\n",
    "a = FeatureStats.load('/media/nnthao/MAT/inception_model/org_dnnlib/gan-metrics/CelebA-HQ-val_img-inception-2015-12-05-871859055e49b26f93953f8cc77f698d.pkl').get_mean_cov()\n",
    "b = FeatureStats.load('/media/nnthao/MAT/inception_model/cswint_dnnlib/gan-metrics/CelebA-HQ-val_img-inception-2015-12-05-871859055e49b26f93953f8cc77f698d.pkl').get_mean_cov()\n",
    "c = FeatureStats.load('/media/nnthao/MAT/inception_model/eval/org_dnnlib/gan-metrics/CelebA-HQ-val_img-inception-2015-12-05-871859055e49b26f93953f8cc77f698d.pkl').get_mean_cov()\n",
    "d = FeatureStats.load('/media/nnthao/MAT/inception_model/eval/cswint_dnnlib/gan-metrics/CelebA-HQ-val_img-inception-2015-12-05-871859055e49b26f93953f8cc77f698d.pkl').get_mean_cov()\n",
    "e = FeatureStats.load('/media/nnthao/.cache/dnnlib/gan-metrics/CelebA-HQ-val_img-inception-2015-12-05-871859055e49b26f93953f8cc77f698d.pkl').get_mean_cov()\n",
    "f = FeatureStats.load('/media/nnthao/.cache/dnnlib2/gan-metrics/CelebA-HQ-val_img-inception-2015-12-05-871859055e49b26f93953f8cc77f698d.pkl').get_mean_cov()\n",
    "\n",
    "print(a[0].sum(), a[1].sum())\n",
    "print(b[0].sum(), b[1].sum())\n",
    "print(c[0].sum(), c[1].sum())\n",
    "print(d[0].sum(), d[1].sum())\n",
    "print(e[0].sum(), e[1].sum())\n",
    "print(f[0].sum(), f[1].sum())"
   ]
  },
  {
   "cell_type": "markdown",
   "metadata": {},
   "source": [
    "### Download CMT model"
   ]
  },
  {
   "cell_type": "code",
   "execution_count": 7,
   "metadata": {},
   "outputs": [
    {
     "name": "stderr",
     "output_type": "stream",
     "text": [
      "Downloading...\n",
      "From: https://drive.google.com/u/0/uc?id=1e6EbwGnMGgGXAn4QLffT_Zx_BbidBSbR&export=download&confirm=1\n",
      "To: /media/nnthao/CMT/CelebA-HQ/CelebA.pth\n",
      "100%|██████████| 595M/595M [04:55<00:00, 2.01MB/s] \n"
     ]
    },
    {
     "data": {
      "text/plain": [
       "'/media/nnthao/CMT/CelebA-HQ/CelebA.pth'"
      ]
     },
     "execution_count": 7,
     "metadata": {},
     "output_type": "execute_result"
    }
   ],
   "source": [
    "import gdown\n",
    "\n",
    "## Fetch data from Google Drive \n",
    "# Root directory for the model\n",
    "data_root = '/media/nnthao/CMT'\n",
    "# Path to folder with the model\n",
    "dataset_folder = f'{data_root}/CelebA-HQ'\n",
    "\n",
    "url = 'https://drive.google.com/u/0/uc?id=1e6EbwGnMGgGXAn4QLffT_Zx_BbidBSbR&export=download&confirm=1'\n",
    "\n",
    "# Path to download the model to\n",
    "download_path = f'{dataset_folder}/CelebA.pth'\n",
    "\n",
    "# Download the model from google drive\n",
    "gdown.download(url, download_path, quiet=False)"
   ]
  },
  {
   "cell_type": "code",
   "execution_count": null,
   "metadata": {},
   "outputs": [],
   "source": [
    "# CMT gen\n",
    "# srun -o std/std-out python demo.py --ckpt /media/nnthao/CMT/CelebA-HQ/CelebA.pth --img_path /home/nnthao/lntuong/CMT/test_cases/images3 --mask_path /home/nnthao/lntuong/CMT/test_cases/masks3 --output_path /home/nnthao/lntuong/CMT/test_cases/samples3"
   ]
  },
  {
   "cell_type": "markdown",
   "metadata": {},
   "source": [
    "### Plot test-cases"
   ]
  },
  {
   "cell_type": "code",
   "execution_count": 1,
   "metadata": {},
   "outputs": [
    {
     "name": "stderr",
     "output_type": "stream",
     "text": [
      "/media/nnthao/miniconda3/envs/MAT/lib/python3.8/site-packages/tqdm/auto.py:21: TqdmWarning: IProgress not found. Please update jupyter and ipywidgets. See https://ipywidgets.readthedocs.io/en/stable/user_install.html\n",
      "  from .autonotebook import tqdm as notebook_tqdm\n"
     ]
    }
   ],
   "source": [
    "from _my_utils import plot_img_path"
   ]
  },
  {
   "cell_type": "code",
   "execution_count": null,
   "metadata": {},
   "outputs": [],
   "source": [
    "dpath = '/home/nnthao/lntuong/FDA-v6/test_sets/CelebA-HQ/images2/'\n",
    "mpath = '/home/nnthao/lntuong/FDA-v6/test_sets/CelebA-HQ/masks2/'\n",
    "outdir = '/home/nnthao/lntuong/FDA-v6/test_sets/CelebA-HQ/samples2/'\n",
    "out1dir = '/home/nnthao/lntuong/FDA-v6/test_sets/CelebA-HQ/samples2_s1/'\n",
    "\n",
    "plot_img_path(dpath=dpath, mpath=mpath, outdir=outdir, out1dir=out1dir, sample='head', img_num=5)"
   ]
  },
  {
   "cell_type": "code",
   "execution_count": null,
   "metadata": {},
   "outputs": [],
   "source": [
    "dpath = '/home/nnthao/lntuong/FDA-v6/test_sets/CelebA-HQ/images3/'\n",
    "mpath = '/home/nnthao/lntuong/FDA-v6/test_sets/CelebA-HQ/masks3/'\n",
    "outdir = '/home/nnthao/lntuong/FDA-v6/test_sets/CelebA-HQ/samples3/'\n",
    "out1dir = '/home/nnthao/lntuong/FDA-v6/test_sets/CelebA-HQ/samples3_s1/'\n",
    "\n",
    "plot_img_path(dpath=dpath, mpath=mpath, outdir=outdir, out1dir=out1dir, sample='head', img_num=8)"
   ]
  },
  {
   "cell_type": "code",
   "execution_count": null,
   "metadata": {},
   "outputs": [],
   "source": [
    "dpath = '/home/nnthao/lntuong/FDA-v6/test_sets/CelebA-HQ/images3/'\n",
    "mpath = '/home/nnthao/lntuong/FDA-v6/test_sets/CelebA-HQ/masks3/'\n",
    "outdir = '/home/nnthao/lntuong/FDA-v6/test_sets/CelebA-HQ/samples3/'\n",
    "out1dir = '/home/nnthao/lntuong/FDA-v6/test_sets/CelebA-HQ/samples3_s1/'\n",
    "\n",
    "plot_img_path(dpath=dpath, mpath=mpath, outdir=outdir, out1dir=out1dir, sample='tail', img_num=8)"
   ]
  },
  {
   "cell_type": "code",
   "execution_count": null,
   "metadata": {},
   "outputs": [],
   "source": [
    "dpath = '/home/nnthao/lntuong/FDA-v6/test_sets/CelebA-HQ/images4/'\n",
    "mpath = '/home/nnthao/lntuong/FDA-v6/test_sets/CelebA-HQ/masks4/'\n",
    "outdir = '/home/nnthao/lntuong/FDA-v6/test_sets/CelebA-HQ/samples4/'\n",
    "out1dir = '/home/nnthao/lntuong/FDA-v6/test_sets/CelebA-HQ/samples4_s1/'\n",
    "\n",
    "plot_img_path(dpath=dpath, mpath=mpath, outdir=outdir, out1dir=out1dir, sample='head', img_num=8)"
   ]
  },
  {
   "cell_type": "code",
   "execution_count": null,
   "metadata": {},
   "outputs": [],
   "source": [
    "dpath = '/home/nnthao/lntuong/FDA-v6/test_sets/CelebA-HQ/images4/'\n",
    "mpath = '/home/nnthao/lntuong/FDA-v6/test_sets/CelebA-HQ/masks4/'\n",
    "outdir = '/home/nnthao/lntuong/FDA-v6/test_sets/CelebA-HQ/samples4/'\n",
    "out1dir = '/home/nnthao/lntuong/FDA-v6/test_sets/CelebA-HQ/samples4_s1/'\n",
    "\n",
    "plot_img_path(dpath=dpath, mpath=mpath, outdir=outdir, out1dir=out1dir, sample='tail', img_num=8)"
   ]
  },
  {
   "cell_type": "code",
   "execution_count": null,
   "metadata": {},
   "outputs": [],
   "source": [
    "dpath = '/media/nnthao/MAT/Data/CelebA-HQ/CelebA-HQ-val_img'\n",
    "mpath = '/media/nnthao/MAT/Data/CelebA-HQ/cswintv6_masks'\n",
    "outdir = '/media/nnthao/MAT/Data/CelebA-HQ/cswintv6_samples'\n",
    "\n",
    "plot_img_path(dpath=dpath, mpath=mpath, outdir=outdir, sample='random', img_num=8)"
   ]
  },
  {
   "cell_type": "code",
   "execution_count": null,
   "metadata": {},
   "outputs": [],
   "source": []
  }
 ],
 "metadata": {
  "kernelspec": {
   "display_name": "Python 3 (ipykernel)",
   "language": "python",
   "name": "python3"
  }
 },
 "nbformat": 4,
 "nbformat_minor": 2
}
