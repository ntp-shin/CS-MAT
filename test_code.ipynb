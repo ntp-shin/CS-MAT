{
 "cells": [
  {
   "cell_type": "code",
   "execution_count": null,
   "metadata": {},
   "outputs": [],
   "source": [
    "import torch.utils.tensorboard as tensorboard\n",
    "run_dir = ''\n",
    "stats_tfevents = tensorboard.SummaryWriter(run_dir)"
   ]
  },
  {
   "cell_type": "markdown",
   "metadata": {},
   "source": [
    "### Test Dataset (adding det)"
   ]
  },
  {
   "cell_type": "code",
   "execution_count": null,
   "metadata": {},
   "outputs": [],
   "source": [
    "from datasets import dataset_512\n",
    "import importlib\n",
    "importlib.reload(dataset_512)\n",
    "\n",
    "res = 256\n",
    "# dpath = '/media/nnthao/MAT/Data/CelebA-HQ/CelebA-HQ-img/'\n",
    "dpath = '/home/nnthao/lntuong/FDA/test_sets/CelebA-HQ/images3'\n",
    "D = dataset_512.ImageFolderMaskDataset(path=dpath, det_path='/media/nnthao/MAT/label_yolo/CelebA-HQ/CelebA-HQ-img/', xflip=True)\n",
    "print(D.__len__())\n",
    "for i in range(D.__len__()):\n",
    "    print(i)\n",
    "    a, b, c, d = D.__getitem__(i)\n",
    "    if a.shape != (3, 512, 512):\n",
    "        print(i, a.shape)"
   ]
  },
  {
   "cell_type": "code",
   "execution_count": null,
   "metadata": {},
   "outputs": [],
   "source": [
    "import matplotlib.pyplot as plt\n",
    "import numpy as np\n",
    "\n",
    "# a = D._load_raw_det(15)\n",
    "a = D.__getitem__(16)[3].transpose(1, 2, 0)\n",
    "plt.imsave('det.png', np.concatenate((a, a, a), axis=2))"
   ]
  },
  {
   "cell_type": "markdown",
   "metadata": {},
   "source": [
    "### Test-case MAT+yolo"
   ]
  },
  {
   "cell_type": "code",
   "execution_count": null,
   "metadata": {},
   "outputs": [],
   "source": [
    "import matplotlib.image as mpimg\n",
    "from _my_utils import *"
   ]
  },
  {
   "cell_type": "code",
   "execution_count": null,
   "metadata": {},
   "outputs": [],
   "source": [
    "dpath = 'test_sets/CelebA-HQ/images3/'\n",
    "mpath = 'test_sets/CelebA-HQ/masks3/'\n",
    "outdir = 'test_sets/CelebA-HQ/samples3/'\n",
    "\n",
    "full_imgs = []\n",
    "\n",
    "for i in range(8):\n",
    "    full_imgs.append(mpimg.imread(dpath + str(i) + '.png')[..., :-1])\n",
    "for i in range(8):\n",
    "    img = mpimg.imread(dpath + str(i) + '.png')[..., :-1]\n",
    "    mask = mpimg.imread(mpath + str(i) + '.png')[..., :-1]\n",
    "    full_imgs.append(img * mask)\n",
    "for i in range(8):\n",
    "    full_imgs.append(mpimg.imread(outdir + str(i) + '.png'))\n",
    "\n",
    "plot_images(np.array(full_imgs), 'rectangle', (3, 8))"
   ]
  }
 ],
 "metadata": {
  "language_info": {
   "name": "python"
  }
 },
 "nbformat": 4,
 "nbformat_minor": 2
}
